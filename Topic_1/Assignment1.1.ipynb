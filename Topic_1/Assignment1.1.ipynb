{
 "cells": [
  {
   "cell_type": "markdown",
   "id": "67023e3a",
   "metadata": {},
   "source": [
    "In this assignment we shall use the Pandas concepts we have learnt to answer some questions about the Adults Data form the UCI ML Data Repository"
   ]
  },
  {
   "cell_type": "code",
   "execution_count": 1,
   "id": "d8f6aaf6",
   "metadata": {},
   "outputs": [],
   "source": [
    "#Importing Data and Libraries\n",
    "import numpy as np\n",
    "import pandas as pd\n",
    "\n",
    "pd.set_option(\"display.max.columns\", 100)\n",
    "# to draw pictures in jupyter notebook\n",
    "%matplotlib inline\n",
    "# we don't like warnings\n",
    "# you can comment the following 2 lines if you'd like to\n",
    "import warnings\n",
    "\n",
    "import matplotlib.pyplot as plt\n",
    "import seaborn as sns\n",
    "\n",
    "warnings.filterwarnings(\"ignore\")\n"
   ]
  },
  {
   "cell_type": "code",
   "execution_count": null,
   "id": "97eace54",
   "metadata": {},
   "outputs": [
    {
     "data": {
      "text/html": [
       "<div>\n",
       "<style scoped>\n",
       "    .dataframe tbody tr th:only-of-type {\n",
       "        vertical-align: middle;\n",
       "    }\n",
       "\n",
       "    .dataframe tbody tr th {\n",
       "        vertical-align: top;\n",
       "    }\n",
       "\n",
       "    .dataframe thead th {\n",
       "        text-align: right;\n",
       "    }\n",
       "</style>\n",
       "<table border=\"1\" class=\"dataframe\">\n",
       "  <thead>\n",
       "    <tr style=\"text-align: right;\">\n",
       "      <th></th>\n",
       "      <th>age</th>\n",
       "      <th>workclass</th>\n",
       "      <th>fnlwgt</th>\n",
       "      <th>education</th>\n",
       "      <th>education-num</th>\n",
       "      <th>marital-status</th>\n",
       "      <th>occupation</th>\n",
       "      <th>relationship</th>\n",
       "      <th>race</th>\n",
       "      <th>sex</th>\n",
       "      <th>capital-gain</th>\n",
       "      <th>capital-loss</th>\n",
       "      <th>hours-per-week</th>\n",
       "      <th>native-country</th>\n",
       "      <th>salary</th>\n",
       "    </tr>\n",
       "  </thead>\n",
       "  <tbody>\n",
       "    <tr>\n",
       "      <th>0</th>\n",
       "      <td>39</td>\n",
       "      <td>State-gov</td>\n",
       "      <td>77516</td>\n",
       "      <td>Bachelors</td>\n",
       "      <td>13</td>\n",
       "      <td>Never-married</td>\n",
       "      <td>Adm-clerical</td>\n",
       "      <td>Not-in-family</td>\n",
       "      <td>White</td>\n",
       "      <td>Male</td>\n",
       "      <td>2174</td>\n",
       "      <td>0</td>\n",
       "      <td>40</td>\n",
       "      <td>United-States</td>\n",
       "      <td>&lt;=50K</td>\n",
       "    </tr>\n",
       "    <tr>\n",
       "      <th>1</th>\n",
       "      <td>50</td>\n",
       "      <td>Self-emp-not-inc</td>\n",
       "      <td>83311</td>\n",
       "      <td>Bachelors</td>\n",
       "      <td>13</td>\n",
       "      <td>Married-civ-spouse</td>\n",
       "      <td>Exec-managerial</td>\n",
       "      <td>Husband</td>\n",
       "      <td>White</td>\n",
       "      <td>Male</td>\n",
       "      <td>0</td>\n",
       "      <td>0</td>\n",
       "      <td>13</td>\n",
       "      <td>United-States</td>\n",
       "      <td>&lt;=50K</td>\n",
       "    </tr>\n",
       "    <tr>\n",
       "      <th>2</th>\n",
       "      <td>38</td>\n",
       "      <td>Private</td>\n",
       "      <td>215646</td>\n",
       "      <td>HS-grad</td>\n",
       "      <td>9</td>\n",
       "      <td>Divorced</td>\n",
       "      <td>Handlers-cleaners</td>\n",
       "      <td>Not-in-family</td>\n",
       "      <td>White</td>\n",
       "      <td>Male</td>\n",
       "      <td>0</td>\n",
       "      <td>0</td>\n",
       "      <td>40</td>\n",
       "      <td>United-States</td>\n",
       "      <td>&lt;=50K</td>\n",
       "    </tr>\n",
       "    <tr>\n",
       "      <th>3</th>\n",
       "      <td>53</td>\n",
       "      <td>Private</td>\n",
       "      <td>234721</td>\n",
       "      <td>11th</td>\n",
       "      <td>7</td>\n",
       "      <td>Married-civ-spouse</td>\n",
       "      <td>Handlers-cleaners</td>\n",
       "      <td>Husband</td>\n",
       "      <td>Black</td>\n",
       "      <td>Male</td>\n",
       "      <td>0</td>\n",
       "      <td>0</td>\n",
       "      <td>40</td>\n",
       "      <td>United-States</td>\n",
       "      <td>&lt;=50K</td>\n",
       "    </tr>\n",
       "    <tr>\n",
       "      <th>4</th>\n",
       "      <td>28</td>\n",
       "      <td>Private</td>\n",
       "      <td>338409</td>\n",
       "      <td>Bachelors</td>\n",
       "      <td>13</td>\n",
       "      <td>Married-civ-spouse</td>\n",
       "      <td>Prof-specialty</td>\n",
       "      <td>Wife</td>\n",
       "      <td>Black</td>\n",
       "      <td>Female</td>\n",
       "      <td>0</td>\n",
       "      <td>0</td>\n",
       "      <td>40</td>\n",
       "      <td>Cuba</td>\n",
       "      <td>&lt;=50K</td>\n",
       "    </tr>\n",
       "  </tbody>\n",
       "</table>\n",
       "</div>"
      ],
      "text/plain": [
       "   age         workclass  fnlwgt  education  education-num  \\\n",
       "0   39         State-gov   77516  Bachelors             13   \n",
       "1   50  Self-emp-not-inc   83311  Bachelors             13   \n",
       "2   38           Private  215646    HS-grad              9   \n",
       "3   53           Private  234721       11th              7   \n",
       "4   28           Private  338409  Bachelors             13   \n",
       "\n",
       "       marital-status         occupation   relationship   race     sex  \\\n",
       "0       Never-married       Adm-clerical  Not-in-family  White    Male   \n",
       "1  Married-civ-spouse    Exec-managerial        Husband  White    Male   \n",
       "2            Divorced  Handlers-cleaners  Not-in-family  White    Male   \n",
       "3  Married-civ-spouse  Handlers-cleaners        Husband  Black    Male   \n",
       "4  Married-civ-spouse     Prof-specialty           Wife  Black  Female   \n",
       "\n",
       "   capital-gain  capital-loss  hours-per-week native-country salary  \n",
       "0          2174             0              40  United-States  <=50K  \n",
       "1             0             0              13  United-States  <=50K  \n",
       "2             0             0              40  United-States  <=50K  \n",
       "3             0             0              40  United-States  <=50K  \n",
       "4             0             0              40           Cuba  <=50K  "
      ]
     },
     "execution_count": 3,
     "metadata": {},
     "output_type": "execute_result"
    }
   ],
   "source": [
    "DATA_URL = \"https://raw.githubusercontent.com/Yorko/mlcourse.ai/main/data/\"\n",
    "data = pd.read_csv(DATA_URL + \"adult.data.csv\")"
   ]
  },
  {
   "cell_type": "markdown",
   "id": "a735e164",
   "metadata": {},
   "source": [
    "Q1\n",
    "How many men and women (sex feature) are represented in this dataset?"
   ]
  },
  {
   "cell_type": "code",
   "execution_count": 11,
   "id": "419fd014",
   "metadata": {},
   "outputs": [
    {
     "data": {
      "text/plain": [
       "sex\n",
       "Male      21790\n",
       "Female    10771\n",
       "Name: count, dtype: int64"
      ]
     },
     "execution_count": 11,
     "metadata": {},
     "output_type": "execute_result"
    }
   ],
   "source": [
    "data[\"sex\"].value_counts()"
   ]
  },
  {
   "cell_type": "markdown",
   "id": "7172f6fe",
   "metadata": {},
   "source": [
    "Answer\n",
    "Count of Men and Women in the Dateset\n",
    "Men = 21790\n",
    "Female =10771"
   ]
  },
  {
   "cell_type": "markdown",
   "id": "1c343f6e",
   "metadata": {},
   "source": [
    "Q2\n",
    "What is the average age (age feature) of women?"
   ]
  },
  {
   "cell_type": "code",
   "execution_count": 14,
   "id": "73ece3ab",
   "metadata": {},
   "outputs": [
    {
     "data": {
      "text/plain": [
       "np.float64(36.85823043357163)"
      ]
     },
     "execution_count": 14,
     "metadata": {},
     "output_type": "execute_result"
    }
   ],
   "source": [
    "data[data[\"sex\"]==\"Female\"][\"age\"].mean()"
   ]
  },
  {
   "cell_type": "markdown",
   "id": "e6ee1295",
   "metadata": {},
   "source": [
    "Answer\n",
    "The average age of all females in the dataset is 36.86 to 2 d.p"
   ]
  },
  {
   "cell_type": "markdown",
   "id": "5cfbfc97",
   "metadata": {},
   "source": [
    "Q3\n",
    "What is the percentage of German citizens (native-country feature)?"
   ]
  },
  {
   "cell_type": "code",
   "execution_count": 32,
   "id": "79170c53",
   "metadata": {},
   "outputs": [
    {
     "data": {
      "text/plain": [
       "np.float64(0.42074874850281013)"
      ]
     },
     "execution_count": 32,
     "metadata": {},
     "output_type": "execute_result"
    }
   ],
   "source": [
    "data[\"native-country\"].value_counts(normalize=True)[\"Germany\"]*100"
   ]
  },
  {
   "cell_type": "markdown",
   "id": "6090f2fc",
   "metadata": {},
   "source": [
    "Answer\n",
    "0.42% to 2 d.p"
   ]
  },
  {
   "cell_type": "markdown",
   "id": "138d8119",
   "metadata": {},
   "source": [
    "Q4-5. What are the mean and standard deviation of age for those who earn more than 50K per year (salary feature) and those who earn less than 50K per year?"
   ]
  },
  {
   "cell_type": "code",
   "execution_count": 39,
   "id": "8c642061",
   "metadata": {},
   "outputs": [
    {
     "data": {
      "text/plain": [
       "mean    36.783738\n",
       "std     14.020088\n",
       "Name: age, dtype: float64"
      ]
     },
     "execution_count": 39,
     "metadata": {},
     "output_type": "execute_result"
    }
   ],
   "source": [
    "data[data[\"salary\"]==\"<=50K\"][\"age\"].aggregate([\"mean\", \"std\"])"
   ]
  },
  {
   "cell_type": "markdown",
   "id": "af6c682f",
   "metadata": {},
   "source": [
    "The mean and standard deviation for the age of people earning less than <=50K is 36.78 and 14.02 respectively"
   ]
  },
  {
   "cell_type": "markdown",
   "id": "a1f66499",
   "metadata": {},
   "source": [
    "Q6 Is it true that people who earn more than 50K have at least high school education? (education – Bachelors, Prof-school, Assoc-acdm, Assoc-voc, Masters or Doctorate feature)"
   ]
  },
  {
   "cell_type": "code",
   "execution_count": 51,
   "id": "351a673f",
   "metadata": {},
   "outputs": [
    {
     "data": {
      "text/plain": [
       "False"
      ]
     },
     "execution_count": 51,
     "metadata": {},
     "output_type": "execute_result"
    }
   ],
   "source": [
    "set(data[data[\"salary\"]==\">50K\"][\"education\"].unique()) == set([\"Bachelors\", \"Prof-school\", \"Assoc-acdm\", \"Assoc-voc\", \"Masters\", \"Doctorate\"])"
   ]
  },
  {
   "cell_type": "markdown",
   "id": "15e896e0",
   "metadata": {},
   "source": [
    "The claim is false , as the set of education features of people earning more than 50K does not equate to the Set given in the question"
   ]
  },
  {
   "cell_type": "markdown",
   "id": "b91e866b",
   "metadata": {},
   "source": [
    "Q7.Display age statistics for each race (race feature) and each gender (sex feature). Use groupby() and describe(). Find the maximum age of men of Amer-Indian-Eskimo race."
   ]
  },
  {
   "cell_type": "code",
   "execution_count": 55,
   "id": "1e1215e9",
   "metadata": {},
   "outputs": [
    {
     "data": {
      "text/html": [
       "<div>\n",
       "<style scoped>\n",
       "    .dataframe tbody tr th:only-of-type {\n",
       "        vertical-align: middle;\n",
       "    }\n",
       "\n",
       "    .dataframe tbody tr th {\n",
       "        vertical-align: top;\n",
       "    }\n",
       "\n",
       "    .dataframe thead tr th {\n",
       "        text-align: left;\n",
       "    }\n",
       "\n",
       "    .dataframe thead tr:last-of-type th {\n",
       "        text-align: right;\n",
       "    }\n",
       "</style>\n",
       "<table border=\"1\" class=\"dataframe\">\n",
       "  <thead>\n",
       "    <tr>\n",
       "      <th></th>\n",
       "      <th colspan=\"8\" halign=\"left\">age</th>\n",
       "    </tr>\n",
       "    <tr>\n",
       "      <th></th>\n",
       "      <th>count</th>\n",
       "      <th>mean</th>\n",
       "      <th>std</th>\n",
       "      <th>min</th>\n",
       "      <th>25%</th>\n",
       "      <th>50%</th>\n",
       "      <th>75%</th>\n",
       "      <th>max</th>\n",
       "    </tr>\n",
       "    <tr>\n",
       "      <th>race</th>\n",
       "      <th></th>\n",
       "      <th></th>\n",
       "      <th></th>\n",
       "      <th></th>\n",
       "      <th></th>\n",
       "      <th></th>\n",
       "      <th></th>\n",
       "      <th></th>\n",
       "    </tr>\n",
       "  </thead>\n",
       "  <tbody>\n",
       "    <tr>\n",
       "      <th>Amer-Indian-Eskimo</th>\n",
       "      <td>311.0</td>\n",
       "      <td>37.173633</td>\n",
       "      <td>12.447130</td>\n",
       "      <td>17.0</td>\n",
       "      <td>28.0</td>\n",
       "      <td>35.0</td>\n",
       "      <td>45.5</td>\n",
       "      <td>82.0</td>\n",
       "    </tr>\n",
       "    <tr>\n",
       "      <th>Asian-Pac-Islander</th>\n",
       "      <td>1039.0</td>\n",
       "      <td>37.746872</td>\n",
       "      <td>12.825133</td>\n",
       "      <td>17.0</td>\n",
       "      <td>28.0</td>\n",
       "      <td>36.0</td>\n",
       "      <td>45.0</td>\n",
       "      <td>90.0</td>\n",
       "    </tr>\n",
       "    <tr>\n",
       "      <th>Black</th>\n",
       "      <td>3124.0</td>\n",
       "      <td>37.767926</td>\n",
       "      <td>12.759290</td>\n",
       "      <td>17.0</td>\n",
       "      <td>28.0</td>\n",
       "      <td>36.0</td>\n",
       "      <td>46.0</td>\n",
       "      <td>90.0</td>\n",
       "    </tr>\n",
       "    <tr>\n",
       "      <th>Other</th>\n",
       "      <td>271.0</td>\n",
       "      <td>33.457565</td>\n",
       "      <td>11.538865</td>\n",
       "      <td>17.0</td>\n",
       "      <td>25.0</td>\n",
       "      <td>31.0</td>\n",
       "      <td>41.0</td>\n",
       "      <td>77.0</td>\n",
       "    </tr>\n",
       "    <tr>\n",
       "      <th>White</th>\n",
       "      <td>27816.0</td>\n",
       "      <td>38.769881</td>\n",
       "      <td>13.782306</td>\n",
       "      <td>17.0</td>\n",
       "      <td>28.0</td>\n",
       "      <td>37.0</td>\n",
       "      <td>48.0</td>\n",
       "      <td>90.0</td>\n",
       "    </tr>\n",
       "  </tbody>\n",
       "</table>\n",
       "</div>"
      ],
      "text/plain": [
       "                        age                                                \\\n",
       "                      count       mean        std   min   25%   50%   75%   \n",
       "race                                                                        \n",
       "Amer-Indian-Eskimo    311.0  37.173633  12.447130  17.0  28.0  35.0  45.5   \n",
       "Asian-Pac-Islander   1039.0  37.746872  12.825133  17.0  28.0  36.0  45.0   \n",
       "Black                3124.0  37.767926  12.759290  17.0  28.0  36.0  46.0   \n",
       "Other                 271.0  33.457565  11.538865  17.0  25.0  31.0  41.0   \n",
       "White               27816.0  38.769881  13.782306  17.0  28.0  37.0  48.0   \n",
       "\n",
       "                          \n",
       "                     max  \n",
       "race                      \n",
       "Amer-Indian-Eskimo  82.0  \n",
       "Asian-Pac-Islander  90.0  \n",
       "Black               90.0  \n",
       "Other               77.0  \n",
       "White               90.0  "
      ]
     },
     "execution_count": 55,
     "metadata": {},
     "output_type": "execute_result"
    }
   ],
   "source": [
    "columns = [\"age\"]\n",
    "data.groupby([\"race\"])[columns].describe()\n"
   ]
  },
  {
   "cell_type": "code",
   "execution_count": 58,
   "id": "2edc6299",
   "metadata": {},
   "outputs": [
    {
     "data": {
      "text/html": [
       "<div>\n",
       "<style scoped>\n",
       "    .dataframe tbody tr th:only-of-type {\n",
       "        vertical-align: middle;\n",
       "    }\n",
       "\n",
       "    .dataframe tbody tr th {\n",
       "        vertical-align: top;\n",
       "    }\n",
       "\n",
       "    .dataframe thead tr th {\n",
       "        text-align: left;\n",
       "    }\n",
       "\n",
       "    .dataframe thead tr:last-of-type th {\n",
       "        text-align: right;\n",
       "    }\n",
       "</style>\n",
       "<table border=\"1\" class=\"dataframe\">\n",
       "  <thead>\n",
       "    <tr>\n",
       "      <th></th>\n",
       "      <th colspan=\"8\" halign=\"left\">age</th>\n",
       "    </tr>\n",
       "    <tr>\n",
       "      <th></th>\n",
       "      <th>count</th>\n",
       "      <th>mean</th>\n",
       "      <th>std</th>\n",
       "      <th>min</th>\n",
       "      <th>25%</th>\n",
       "      <th>50%</th>\n",
       "      <th>75%</th>\n",
       "      <th>max</th>\n",
       "    </tr>\n",
       "    <tr>\n",
       "      <th>sex</th>\n",
       "      <th></th>\n",
       "      <th></th>\n",
       "      <th></th>\n",
       "      <th></th>\n",
       "      <th></th>\n",
       "      <th></th>\n",
       "      <th></th>\n",
       "      <th></th>\n",
       "    </tr>\n",
       "  </thead>\n",
       "  <tbody>\n",
       "    <tr>\n",
       "      <th>Female</th>\n",
       "      <td>10771.0</td>\n",
       "      <td>36.858230</td>\n",
       "      <td>14.013697</td>\n",
       "      <td>17.0</td>\n",
       "      <td>25.0</td>\n",
       "      <td>35.0</td>\n",
       "      <td>46.0</td>\n",
       "      <td>90.0</td>\n",
       "    </tr>\n",
       "    <tr>\n",
       "      <th>Male</th>\n",
       "      <td>21790.0</td>\n",
       "      <td>39.433547</td>\n",
       "      <td>13.370630</td>\n",
       "      <td>17.0</td>\n",
       "      <td>29.0</td>\n",
       "      <td>38.0</td>\n",
       "      <td>48.0</td>\n",
       "      <td>90.0</td>\n",
       "    </tr>\n",
       "  </tbody>\n",
       "</table>\n",
       "</div>"
      ],
      "text/plain": [
       "            age                                                    \n",
       "          count       mean        std   min   25%   50%   75%   max\n",
       "sex                                                                \n",
       "Female  10771.0  36.858230  14.013697  17.0  25.0  35.0  46.0  90.0\n",
       "Male    21790.0  39.433547  13.370630  17.0  29.0  38.0  48.0  90.0"
      ]
     },
     "execution_count": 58,
     "metadata": {},
     "output_type": "execute_result"
    }
   ],
   "source": [
    "columns = [\"age\"]\n",
    "data.groupby([\"sex\"])[columns].describe()\n"
   ]
  },
  {
   "cell_type": "markdown",
   "id": "4a2682f6",
   "metadata": {},
   "source": [
    "The maximum age of the race Amer-Indian-Eskimo is 82"
   ]
  },
  {
   "cell_type": "markdown",
   "id": "0637dc28",
   "metadata": {},
   "source": [
    "Q8.Among whom is the proportion of those who earn a lot (>50K) greater: married or single men (marital-status feature)? Consider as married those who have a marital-status starting with Married (Married-civ-spouse, Married-spouse-absent or Married-AF-spouse), the rest are considered bachelors."
   ]
  },
  {
   "cell_type": "code",
   "execution_count": 68,
   "id": "78f82b93",
   "metadata": {},
   "outputs": [
    {
     "data": {
      "text/plain": [
       "Married\n",
       "True     0.859074\n",
       "False    0.140926\n",
       "Name: proportion, dtype: float64"
      ]
     },
     "execution_count": 68,
     "metadata": {},
     "output_type": "execute_result"
    }
   ],
   "source": [
    "data[\"Married\"] = data[\"marital-status\"].apply(lambda x : x[0] == \"M\")\n",
    "data[data[\"salary\"]==\">50K\"][\"Married\"].value_counts(normalize=True)"
   ]
  },
  {
   "cell_type": "markdown",
   "id": "169394db",
   "metadata": {},
   "source": [
    "People who hare married have make up the majority of people who earn more than 50K"
   ]
  },
  {
   "cell_type": "markdown",
   "id": "9ac1231e",
   "metadata": {},
   "source": [
    "Q9.What is the maximum number of hours a person works per week (hours-per-week feature)? How many people work such a number of hours, and what is the percentage of those who earn a lot (>50K) among them?"
   ]
  },
  {
   "cell_type": "code",
   "execution_count": 74,
   "id": "d6f57329",
   "metadata": {},
   "outputs": [
    {
     "data": {
      "text/plain": [
       "salary\n",
       "<=50K    0.705882\n",
       ">50K     0.294118\n",
       "Name: proportion, dtype: float64"
      ]
     },
     "execution_count": 74,
     "metadata": {},
     "output_type": "execute_result"
    }
   ],
   "source": [
    "data[\"hours-per-week\"].max() #99\n",
    "data[data[\"hours-per-week\"]==99].shape[0] #85\n",
    "data[data[\"hours-per-week\"]==99][\"salary\"].value_counts(normalize=True) "
   ]
  },
  {
   "cell_type": "markdown",
   "id": "bd1c66c1",
   "metadata": {},
   "source": [
    "The proportion of people earning >50K in the group of people who work 99 Hours is 0.705"
   ]
  },
  {
   "cell_type": "markdown",
   "id": "1daaa70a",
   "metadata": {},
   "source": []
  },
  {
   "cell_type": "code",
   "execution_count": 94,
   "id": "b3d09dce",
   "metadata": {},
   "outputs": [
    {
     "data": {
      "text/plain": [
       "hours-per-week    43.693548\n",
       "Name: Japan, dtype: float64"
      ]
     },
     "execution_count": 94,
     "metadata": {},
     "output_type": "execute_result"
    }
   ],
   "source": [
    "data.columns\n",
    "columns = [\"hours-per-week\"]\n",
    "data.groupby([\"native-country\"])[columns].mean().loc[\"Japan\"]\n",
    "\n"
   ]
  },
  {
   "cell_type": "markdown",
   "id": "ece9f471",
   "metadata": {},
   "source": [
    "The average Hours per week for all the people living in Japan is 43.6935"
   ]
  }
 ],
 "metadata": {
  "kernelspec": {
   "display_name": ".venv",
   "language": "python",
   "name": "python3"
  },
  "language_info": {
   "codemirror_mode": {
    "name": "ipython",
    "version": 3
   },
   "file_extension": ".py",
   "mimetype": "text/x-python",
   "name": "python",
   "nbconvert_exporter": "python",
   "pygments_lexer": "ipython3",
   "version": "3.11.9"
  }
 },
 "nbformat": 4,
 "nbformat_minor": 5
}
